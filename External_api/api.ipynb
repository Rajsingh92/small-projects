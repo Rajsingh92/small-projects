{
 "cells": [
  {
   "cell_type": "code",
   "execution_count": 2,
   "metadata": {},
   "outputs": [],
   "source": [
    "import requests\n",
    "import json"
   ]
  },
  {
   "cell_type": "markdown",
   "metadata": {},
   "source": [
    "## Example 1"
   ]
  },
  {
   "cell_type": "code",
   "execution_count": 11,
   "metadata": {},
   "outputs": [
    {
     "name": "stdout",
     "output_type": "stream",
     "text": [
      "200\n"
     ]
    }
   ],
   "source": [
    "response = requests.get(\"http://api.open-notify.org/iss-now.json\")\n",
    "\n",
    "print(response.status_code)"
   ]
  },
  {
   "cell_type": "code",
   "execution_count": 13,
   "metadata": {},
   "outputs": [
    {
     "name": "stdout",
     "output_type": "stream",
     "text": [
      "latitude40\n",
      "longitude 70\n"
     ]
    },
    {
     "data": {
      "text/plain": [
       "{'message': 'success',\n",
       " 'request': {'altitude': 100,\n",
       "  'datetime': 1562067205,\n",
       "  'latitude': 40.0,\n",
       "  'longitude': 70.0,\n",
       "  'passes': 5},\n",
       " 'response': [{'duration': 127, 'risetime': 1562097272},\n",
       "  {'duration': 620, 'risetime': 1562102773},\n",
       "  {'duration': 626, 'risetime': 1562108568},\n",
       "  {'duration': 546, 'risetime': 1562114456},\n",
       "  {'duration': 556, 'risetime': 1562120318}]}"
      ]
     },
     "execution_count": 13,
     "metadata": {},
     "output_type": "execute_result"
    }
   ],
   "source": [
    "lat = int(input(\" latitude\"))\n",
    "lon = int(input(\"longitude \"))\n",
    "\n",
    "parameters = {\"lat\": lat, \"lon\": lon}\n",
    "\n",
    "response = requests.get(\"http://api.open-notify.org/iss-pass.json\", params=parameters)\n",
    "\n",
    "data= response.json()\n",
    "\n",
    "data"
   ]
  },
  {
   "cell_type": "markdown",
   "metadata": {},
   "source": [
    "## Example 2"
   ]
  },
  {
   "cell_type": "code",
   "execution_count": 7,
   "metadata": {
    "scrolled": true
   },
   "outputs": [
    {
     "name": "stdout",
     "output_type": "stream",
     "text": [
      "Enter city name : jabalpur\n",
      "200\n"
     ]
    }
   ],
   "source": [
    "api_key = \"c142b5e22b8968b4eac9030d42a6bf33\"\n",
    "  \n",
    "base_url = \"http://api.openweathermap.org/data/2.5/weather?\"\n",
    "   \n",
    "city_name = input(\"Enter city name : \") \n",
    "\n",
    "complete_url = base_url + \"appid=\" + api_key + \"&q=\" + city_name \n",
    "\n",
    "response = requests.get(complete_url) \n",
    "\n",
    "print(response.status_code)"
   ]
  },
  {
   "cell_type": "code",
   "execution_count": 9,
   "metadata": {},
   "outputs": [
    {
     "data": {
      "text/plain": [
       "{'temp': 305.613,\n",
       " 'pressure': 993.56,\n",
       " 'humidity': 52,\n",
       " 'temp_min': 305.613,\n",
       " 'temp_max': 305.613,\n",
       " 'sea_level': 993.56,\n",
       " 'grnd_level': 949.9}"
      ]
     },
     "execution_count": 9,
     "metadata": {},
     "output_type": "execute_result"
    }
   ],
   "source": [
    "data=response.json()\n",
    "data[\"main\"]"
   ]
  }
 ],
 "metadata": {
  "kernelspec": {
   "display_name": "Python 3",
   "language": "python",
   "name": "python3"
  },
  "language_info": {
   "codemirror_mode": {
    "name": "ipython",
    "version": 3
   },
   "file_extension": ".py",
   "mimetype": "text/x-python",
   "name": "python",
   "nbconvert_exporter": "python",
   "pygments_lexer": "ipython3",
   "version": "3.7.3"
  }
 },
 "nbformat": 4,
 "nbformat_minor": 2
}
